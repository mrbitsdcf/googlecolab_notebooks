{
  "cells": [
    {
      "cell_type": "markdown",
      "metadata": {
        "id": "_V1wQ9jxEJoZ"
      },
      "source": [
        "Notebook Para Transcrever Vídeos Do YouTube.<p>\n",
        "Criação Daniel Dias da Comunidade Sandeco https://www.youtube.com/@canalsandeco<p>\n",
        "Site: www.inarte.com.br<p>\n",
        "Email: inarte@gmail.com <p>\n",
        "<p>\n",
        "LEIA COM ATENÇÃO\n",
        "<P>\n",
        "Como o uso da GPU T4 é gratuito, ele tem um limite de uso, portanto procure fazer pausas de 3 a 5 dias quando o limite for atingido e não estiver mais fazendo as transcrições.<p><p>\n",
        "Não Esqueça de Fazer o Donwload do Seu Arquivo Quando Terminar!<p><p>\n",
        "Selecione Uma Instância Com GPU T4 do Lado Direito Superior (Opções Adicionais de Conexão) Antes de Iniciar a Execução dos Códigos.<p>\n",
        "Procure do lado direito superior a seta para baixo e altere o ambiente de execussão com GPU - T4.<p>\n",
        "\n",
        "![t4-a.png](data:image/png;base64,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)\n"
      ]
    },
    {
      "cell_type": "markdown",
      "metadata": {
        "id": "pQipyDzSEiOR"
      },
      "source": [
        "Instruções para Execução no Colab<p>\n",
        "Execute cada bloco um a um aguarde cada bloco completar a execução completamente antes de passar para o próximo.<p>\n",
        "Clique no botão \"Iniciar Transcrição\" para iniciar a transcrição e tradução do áudio no fim do último bloco.<p>\n",
        "Procure o arquivo ao lado esquerdo na pasta onde ele foi salvo, e clique nos três pontos para realizar o download.<p>\n",
        "Se deseja realizar mais de uma transcrição deve repetir todos os passos novamente.<p>\n",
        "Pode começar suas transcrições!\n",
        "\n"
      ]
    },
    {
      "cell_type": "code",
      "execution_count": null,
      "metadata": {
        "colab": {
          "base_uri": "https://localhost:8080/"
        },
        "id": "L8Tmi8E1317H",
        "outputId": "2d154892-3d7b-4094-e2c1-8897e6215206"
      },
      "outputs": [
        {
          "output_type": "stream",
          "name": "stdout",
          "text": [
            "Requirement already satisfied: yt-dlp in /usr/local/lib/python3.10/dist-packages (2024.5.27)\n",
            "Requirement already satisfied: brotli in /usr/local/lib/python3.10/dist-packages (from yt-dlp) (1.1.0)\n",
            "Requirement already satisfied: certifi in /usr/local/lib/python3.10/dist-packages (from yt-dlp) (2024.6.2)\n",
            "Requirement already satisfied: mutagen in /usr/local/lib/python3.10/dist-packages (from yt-dlp) (1.47.0)\n",
            "Requirement already satisfied: pycryptodomex in /usr/local/lib/python3.10/dist-packages (from yt-dlp) (3.20.0)\n",
            "Requirement already satisfied: requests<3,>=2.31.0 in /usr/local/lib/python3.10/dist-packages (from yt-dlp) (2.31.0)\n",
            "Requirement already satisfied: urllib3<3,>=1.26.17 in /usr/local/lib/python3.10/dist-packages (from yt-dlp) (2.0.7)\n",
            "Requirement already satisfied: websockets>=12.0 in /usr/local/lib/python3.10/dist-packages (from yt-dlp) (12.0)\n",
            "Requirement already satisfied: charset-normalizer<4,>=2 in /usr/local/lib/python3.10/dist-packages (from requests<3,>=2.31.0->yt-dlp) (3.3.2)\n",
            "Requirement already satisfied: idna<4,>=2.5 in /usr/local/lib/python3.10/dist-packages (from requests<3,>=2.31.0->yt-dlp) (3.7)\n",
            "Collecting git+https://github.com/openai/whisper.git\n",
            "  Cloning https://github.com/openai/whisper.git to /tmp/pip-req-build-gb50ncck\n",
            "  Running command git clone --filter=blob:none --quiet https://github.com/openai/whisper.git /tmp/pip-req-build-gb50ncck\n",
            "  Resolved https://github.com/openai/whisper.git to commit ba3f3cd54b0e5b8ce1ab3de13e32122d0d5f98ab\n",
            "  Installing build dependencies ... \u001b[?25l\u001b[?25hdone\n",
            "  Getting requirements to build wheel ... \u001b[?25l\u001b[?25hdone\n",
            "  Preparing metadata (pyproject.toml) ... \u001b[?25l\u001b[?25hdone\n",
            "Requirement already satisfied: numba in /usr/local/lib/python3.10/dist-packages (from openai-whisper==20231117) (0.58.1)\n",
            "Requirement already satisfied: numpy in /usr/local/lib/python3.10/dist-packages (from openai-whisper==20231117) (1.25.2)\n",
            "Requirement already satisfied: torch in /usr/local/lib/python3.10/dist-packages (from openai-whisper==20231117) (2.3.0+cu121)\n",
            "Requirement already satisfied: tqdm in /usr/local/lib/python3.10/dist-packages (from openai-whisper==20231117) (4.66.4)\n",
            "Requirement already satisfied: more-itertools in /usr/local/lib/python3.10/dist-packages (from openai-whisper==20231117) (10.1.0)\n",
            "Requirement already satisfied: tiktoken in /usr/local/lib/python3.10/dist-packages (from openai-whisper==20231117) (0.7.0)\n",
            "Requirement already satisfied: triton<3,>=2.0.0 in /usr/local/lib/python3.10/dist-packages (from openai-whisper==20231117) (2.3.0)\n",
            "Requirement already satisfied: filelock in /usr/local/lib/python3.10/dist-packages (from triton<3,>=2.0.0->openai-whisper==20231117) (3.14.0)\n",
            "Requirement already satisfied: llvmlite<0.42,>=0.41.0dev0 in /usr/local/lib/python3.10/dist-packages (from numba->openai-whisper==20231117) (0.41.1)\n",
            "Requirement already satisfied: regex>=2022.1.18 in /usr/local/lib/python3.10/dist-packages (from tiktoken->openai-whisper==20231117) (2024.5.15)\n",
            "Requirement already satisfied: requests>=2.26.0 in /usr/local/lib/python3.10/dist-packages (from tiktoken->openai-whisper==20231117) (2.31.0)\n",
            "Requirement already satisfied: typing-extensions>=4.8.0 in /usr/local/lib/python3.10/dist-packages (from torch->openai-whisper==20231117) (4.12.2)\n",
            "Requirement already satisfied: sympy in /usr/local/lib/python3.10/dist-packages (from torch->openai-whisper==20231117) (1.12.1)\n",
            "Requirement already satisfied: networkx in /usr/local/lib/python3.10/dist-packages (from torch->openai-whisper==20231117) (3.3)\n",
            "Requirement already satisfied: jinja2 in /usr/local/lib/python3.10/dist-packages (from torch->openai-whisper==20231117) (3.1.4)\n",
            "Requirement already satisfied: fsspec in /usr/local/lib/python3.10/dist-packages (from torch->openai-whisper==20231117) (2023.6.0)\n",
            "Requirement already satisfied: nvidia-cuda-nvrtc-cu12==12.1.105 in /usr/local/lib/python3.10/dist-packages (from torch->openai-whisper==20231117) (12.1.105)\n",
            "Requirement already satisfied: nvidia-cuda-runtime-cu12==12.1.105 in /usr/local/lib/python3.10/dist-packages (from torch->openai-whisper==20231117) (12.1.105)\n",
            "Requirement already satisfied: nvidia-cuda-cupti-cu12==12.1.105 in /usr/local/lib/python3.10/dist-packages (from torch->openai-whisper==20231117) (12.1.105)\n",
            "Requirement already satisfied: nvidia-cudnn-cu12==8.9.2.26 in /usr/local/lib/python3.10/dist-packages (from torch->openai-whisper==20231117) (8.9.2.26)\n",
            "Requirement already satisfied: nvidia-cublas-cu12==12.1.3.1 in /usr/local/lib/python3.10/dist-packages (from torch->openai-whisper==20231117) (12.1.3.1)\n",
            "Requirement already satisfied: nvidia-cufft-cu12==11.0.2.54 in /usr/local/lib/python3.10/dist-packages (from torch->openai-whisper==20231117) (11.0.2.54)\n",
            "Requirement already satisfied: nvidia-curand-cu12==10.3.2.106 in /usr/local/lib/python3.10/dist-packages (from torch->openai-whisper==20231117) (10.3.2.106)\n",
            "Requirement already satisfied: nvidia-cusolver-cu12==11.4.5.107 in /usr/local/lib/python3.10/dist-packages (from torch->openai-whisper==20231117) (11.4.5.107)\n",
            "Requirement already satisfied: nvidia-cusparse-cu12==12.1.0.106 in /usr/local/lib/python3.10/dist-packages (from torch->openai-whisper==20231117) (12.1.0.106)\n",
            "Requirement already satisfied: nvidia-nccl-cu12==2.20.5 in /usr/local/lib/python3.10/dist-packages (from torch->openai-whisper==20231117) (2.20.5)\n",
            "Requirement already satisfied: nvidia-nvtx-cu12==12.1.105 in /usr/local/lib/python3.10/dist-packages (from torch->openai-whisper==20231117) (12.1.105)\n",
            "Requirement already satisfied: nvidia-nvjitlink-cu12 in /usr/local/lib/python3.10/dist-packages (from nvidia-cusolver-cu12==11.4.5.107->torch->openai-whisper==20231117) (12.5.40)\n",
            "Requirement already satisfied: charset-normalizer<4,>=2 in /usr/local/lib/python3.10/dist-packages (from requests>=2.26.0->tiktoken->openai-whisper==20231117) (3.3.2)\n",
            "Requirement already satisfied: idna<4,>=2.5 in /usr/local/lib/python3.10/dist-packages (from requests>=2.26.0->tiktoken->openai-whisper==20231117) (3.7)\n",
            "Requirement already satisfied: urllib3<3,>=1.21.1 in /usr/local/lib/python3.10/dist-packages (from requests>=2.26.0->tiktoken->openai-whisper==20231117) (2.0.7)\n",
            "Requirement already satisfied: certifi>=2017.4.17 in /usr/local/lib/python3.10/dist-packages (from requests>=2.26.0->tiktoken->openai-whisper==20231117) (2024.6.2)\n",
            "Requirement already satisfied: MarkupSafe>=2.0 in /usr/local/lib/python3.10/dist-packages (from jinja2->torch->openai-whisper==20231117) (2.1.5)\n",
            "Requirement already satisfied: mpmath<1.4.0,>=1.1.0 in /usr/local/lib/python3.10/dist-packages (from sympy->torch->openai-whisper==20231117) (1.3.0)\n",
            "Requirement already satisfied: deep-translator in /usr/local/lib/python3.10/dist-packages (1.11.4)\n",
            "Requirement already satisfied: langdetect in /usr/local/lib/python3.10/dist-packages (1.0.9)\n",
            "Requirement already satisfied: tqdm in /usr/local/lib/python3.10/dist-packages (4.66.4)\n",
            "Requirement already satisfied: numpy in /usr/local/lib/python3.10/dist-packages (1.25.2)\n",
            "Requirement already satisfied: ipywidgets in /usr/local/lib/python3.10/dist-packages (7.7.1)\n",
            "Requirement already satisfied: beautifulsoup4<5.0.0,>=4.9.1 in /usr/local/lib/python3.10/dist-packages (from deep-translator) (4.12.3)\n",
            "Requirement already satisfied: requests<3.0.0,>=2.23.0 in /usr/local/lib/python3.10/dist-packages (from deep-translator) (2.31.0)\n",
            "Requirement already satisfied: six in /usr/local/lib/python3.10/dist-packages (from langdetect) (1.16.0)\n",
            "Requirement already satisfied: ipykernel>=4.5.1 in /usr/local/lib/python3.10/dist-packages (from ipywidgets) (5.5.6)\n",
            "Requirement already satisfied: ipython-genutils~=0.2.0 in /usr/local/lib/python3.10/dist-packages (from ipywidgets) (0.2.0)\n",
            "Requirement already satisfied: traitlets>=4.3.1 in /usr/local/lib/python3.10/dist-packages (from ipywidgets) (5.7.1)\n",
            "Requirement already satisfied: widgetsnbextension~=3.6.0 in /usr/local/lib/python3.10/dist-packages (from ipywidgets) (3.6.6)\n",
            "Requirement already satisfied: ipython>=4.0.0 in /usr/local/lib/python3.10/dist-packages (from ipywidgets) (7.34.0)\n",
            "Requirement already satisfied: jupyterlab-widgets>=1.0.0 in /usr/local/lib/python3.10/dist-packages (from ipywidgets) (3.0.11)\n",
            "Requirement already satisfied: soupsieve>1.2 in /usr/local/lib/python3.10/dist-packages (from beautifulsoup4<5.0.0,>=4.9.1->deep-translator) (2.5)\n",
            "Requirement already satisfied: jupyter-client in /usr/local/lib/python3.10/dist-packages (from ipykernel>=4.5.1->ipywidgets) (6.1.12)\n",
            "Requirement already satisfied: tornado>=4.2 in /usr/local/lib/python3.10/dist-packages (from ipykernel>=4.5.1->ipywidgets) (6.3.3)\n",
            "Requirement already satisfied: setuptools>=18.5 in /usr/local/lib/python3.10/dist-packages (from ipython>=4.0.0->ipywidgets) (67.7.2)\n",
            "Requirement already satisfied: jedi>=0.16 in /usr/local/lib/python3.10/dist-packages (from ipython>=4.0.0->ipywidgets) (0.19.1)\n",
            "Requirement already satisfied: decorator in /usr/local/lib/python3.10/dist-packages (from ipython>=4.0.0->ipywidgets) (4.4.2)\n",
            "Requirement already satisfied: pickleshare in /usr/local/lib/python3.10/dist-packages (from ipython>=4.0.0->ipywidgets) (0.7.5)\n",
            "Requirement already satisfied: prompt-toolkit!=3.0.0,!=3.0.1,<3.1.0,>=2.0.0 in /usr/local/lib/python3.10/dist-packages (from ipython>=4.0.0->ipywidgets) (3.0.47)\n",
            "Requirement already satisfied: pygments in /usr/local/lib/python3.10/dist-packages (from ipython>=4.0.0->ipywidgets) (2.16.1)\n",
            "Requirement already satisfied: backcall in /usr/local/lib/python3.10/dist-packages (from ipython>=4.0.0->ipywidgets) (0.2.0)\n",
            "Requirement already satisfied: matplotlib-inline in /usr/local/lib/python3.10/dist-packages (from ipython>=4.0.0->ipywidgets) (0.1.7)\n",
            "Requirement already satisfied: pexpect>4.3 in /usr/local/lib/python3.10/dist-packages (from ipython>=4.0.0->ipywidgets) (4.9.0)\n",
            "Requirement already satisfied: charset-normalizer<4,>=2 in /usr/local/lib/python3.10/dist-packages (from requests<3.0.0,>=2.23.0->deep-translator) (3.3.2)\n",
            "Requirement already satisfied: idna<4,>=2.5 in /usr/local/lib/python3.10/dist-packages (from requests<3.0.0,>=2.23.0->deep-translator) (3.7)\n",
            "Requirement already satisfied: urllib3<3,>=1.21.1 in /usr/local/lib/python3.10/dist-packages (from requests<3.0.0,>=2.23.0->deep-translator) (2.0.7)\n",
            "Requirement already satisfied: certifi>=2017.4.17 in /usr/local/lib/python3.10/dist-packages (from requests<3.0.0,>=2.23.0->deep-translator) (2024.6.2)\n",
            "Requirement already satisfied: notebook>=4.4.1 in /usr/local/lib/python3.10/dist-packages (from widgetsnbextension~=3.6.0->ipywidgets) (6.5.5)\n",
            "Requirement already satisfied: parso<0.9.0,>=0.8.3 in /usr/local/lib/python3.10/dist-packages (from jedi>=0.16->ipython>=4.0.0->ipywidgets) (0.8.4)\n",
            "Requirement already satisfied: jinja2 in /usr/local/lib/python3.10/dist-packages (from notebook>=4.4.1->widgetsnbextension~=3.6.0->ipywidgets) (3.1.4)\n",
            "Requirement already satisfied: pyzmq<25,>=17 in /usr/local/lib/python3.10/dist-packages (from notebook>=4.4.1->widgetsnbextension~=3.6.0->ipywidgets) (24.0.1)\n",
            "Requirement already satisfied: argon2-cffi in /usr/local/lib/python3.10/dist-packages (from notebook>=4.4.1->widgetsnbextension~=3.6.0->ipywidgets) (23.1.0)\n",
            "Requirement already satisfied: jupyter-core>=4.6.1 in /usr/local/lib/python3.10/dist-packages (from notebook>=4.4.1->widgetsnbextension~=3.6.0->ipywidgets) (5.7.2)\n",
            "Requirement already satisfied: nbformat in /usr/local/lib/python3.10/dist-packages (from notebook>=4.4.1->widgetsnbextension~=3.6.0->ipywidgets) (5.10.4)\n",
            "Requirement already satisfied: nbconvert>=5 in /usr/local/lib/python3.10/dist-packages (from notebook>=4.4.1->widgetsnbextension~=3.6.0->ipywidgets) (6.5.4)\n",
            "Requirement already satisfied: nest-asyncio>=1.5 in /usr/local/lib/python3.10/dist-packages (from notebook>=4.4.1->widgetsnbextension~=3.6.0->ipywidgets) (1.6.0)\n",
            "Requirement already satisfied: Send2Trash>=1.8.0 in /usr/local/lib/python3.10/dist-packages (from notebook>=4.4.1->widgetsnbextension~=3.6.0->ipywidgets) (1.8.3)\n",
            "Requirement already satisfied: terminado>=0.8.3 in /usr/local/lib/python3.10/dist-packages (from notebook>=4.4.1->widgetsnbextension~=3.6.0->ipywidgets) (0.18.1)\n",
            "Requirement already satisfied: prometheus-client in /usr/local/lib/python3.10/dist-packages (from notebook>=4.4.1->widgetsnbextension~=3.6.0->ipywidgets) (0.20.0)\n",
            "Requirement already satisfied: nbclassic>=0.4.7 in /usr/local/lib/python3.10/dist-packages (from notebook>=4.4.1->widgetsnbextension~=3.6.0->ipywidgets) (1.1.0)\n",
            "Requirement already satisfied: python-dateutil>=2.1 in /usr/local/lib/python3.10/dist-packages (from jupyter-client->ipykernel>=4.5.1->ipywidgets) (2.8.2)\n",
            "Requirement already satisfied: ptyprocess>=0.5 in /usr/local/lib/python3.10/dist-packages (from pexpect>4.3->ipython>=4.0.0->ipywidgets) (0.7.0)\n",
            "Requirement already satisfied: wcwidth in /usr/local/lib/python3.10/dist-packages (from prompt-toolkit!=3.0.0,!=3.0.1,<3.1.0,>=2.0.0->ipython>=4.0.0->ipywidgets) (0.2.13)\n",
            "Requirement already satisfied: platformdirs>=2.5 in /usr/local/lib/python3.10/dist-packages (from jupyter-core>=4.6.1->notebook>=4.4.1->widgetsnbextension~=3.6.0->ipywidgets) (4.2.2)\n",
            "Requirement already satisfied: notebook-shim>=0.2.3 in /usr/local/lib/python3.10/dist-packages (from nbclassic>=0.4.7->notebook>=4.4.1->widgetsnbextension~=3.6.0->ipywidgets) (0.2.4)\n",
            "Requirement already satisfied: lxml in /usr/local/lib/python3.10/dist-packages (from nbconvert>=5->notebook>=4.4.1->widgetsnbextension~=3.6.0->ipywidgets) (4.9.4)\n",
            "Requirement already satisfied: bleach in /usr/local/lib/python3.10/dist-packages (from nbconvert>=5->notebook>=4.4.1->widgetsnbextension~=3.6.0->ipywidgets) (6.1.0)\n",
            "Requirement already satisfied: defusedxml in /usr/local/lib/python3.10/dist-packages (from nbconvert>=5->notebook>=4.4.1->widgetsnbextension~=3.6.0->ipywidgets) (0.7.1)\n",
            "Requirement already satisfied: entrypoints>=0.2.2 in /usr/local/lib/python3.10/dist-packages (from nbconvert>=5->notebook>=4.4.1->widgetsnbextension~=3.6.0->ipywidgets) (0.4)\n",
            "Requirement already satisfied: jupyterlab-pygments in /usr/local/lib/python3.10/dist-packages (from nbconvert>=5->notebook>=4.4.1->widgetsnbextension~=3.6.0->ipywidgets) (0.3.0)\n",
            "Requirement already satisfied: MarkupSafe>=2.0 in /usr/local/lib/python3.10/dist-packages (from nbconvert>=5->notebook>=4.4.1->widgetsnbextension~=3.6.0->ipywidgets) (2.1.5)\n",
            "Requirement already satisfied: mistune<2,>=0.8.1 in /usr/local/lib/python3.10/dist-packages (from nbconvert>=5->notebook>=4.4.1->widgetsnbextension~=3.6.0->ipywidgets) (0.8.4)\n",
            "Requirement already satisfied: nbclient>=0.5.0 in /usr/local/lib/python3.10/dist-packages (from nbconvert>=5->notebook>=4.4.1->widgetsnbextension~=3.6.0->ipywidgets) (0.10.0)\n",
            "Requirement already satisfied: packaging in /usr/local/lib/python3.10/dist-packages (from nbconvert>=5->notebook>=4.4.1->widgetsnbextension~=3.6.0->ipywidgets) (24.1)\n",
            "Requirement already satisfied: pandocfilters>=1.4.1 in /usr/local/lib/python3.10/dist-packages (from nbconvert>=5->notebook>=4.4.1->widgetsnbextension~=3.6.0->ipywidgets) (1.5.1)\n",
            "Requirement already satisfied: tinycss2 in /usr/local/lib/python3.10/dist-packages (from nbconvert>=5->notebook>=4.4.1->widgetsnbextension~=3.6.0->ipywidgets) (1.3.0)\n",
            "Requirement already satisfied: fastjsonschema>=2.15 in /usr/local/lib/python3.10/dist-packages (from nbformat->notebook>=4.4.1->widgetsnbextension~=3.6.0->ipywidgets) (2.19.1)\n",
            "Requirement already satisfied: jsonschema>=2.6 in /usr/local/lib/python3.10/dist-packages (from nbformat->notebook>=4.4.1->widgetsnbextension~=3.6.0->ipywidgets) (4.19.2)\n",
            "Requirement already satisfied: argon2-cffi-bindings in /usr/local/lib/python3.10/dist-packages (from argon2-cffi->notebook>=4.4.1->widgetsnbextension~=3.6.0->ipywidgets) (21.2.0)\n",
            "Requirement already satisfied: attrs>=22.2.0 in /usr/local/lib/python3.10/dist-packages (from jsonschema>=2.6->nbformat->notebook>=4.4.1->widgetsnbextension~=3.6.0->ipywidgets) (23.2.0)\n",
            "Requirement already satisfied: jsonschema-specifications>=2023.03.6 in /usr/local/lib/python3.10/dist-packages (from jsonschema>=2.6->nbformat->notebook>=4.4.1->widgetsnbextension~=3.6.0->ipywidgets) (2023.12.1)\n",
            "Requirement already satisfied: referencing>=0.28.4 in /usr/local/lib/python3.10/dist-packages (from jsonschema>=2.6->nbformat->notebook>=4.4.1->widgetsnbextension~=3.6.0->ipywidgets) (0.35.1)\n",
            "Requirement already satisfied: rpds-py>=0.7.1 in /usr/local/lib/python3.10/dist-packages (from jsonschema>=2.6->nbformat->notebook>=4.4.1->widgetsnbextension~=3.6.0->ipywidgets) (0.18.1)\n",
            "Requirement already satisfied: jupyter-server<3,>=1.8 in /usr/local/lib/python3.10/dist-packages (from notebook-shim>=0.2.3->nbclassic>=0.4.7->notebook>=4.4.1->widgetsnbextension~=3.6.0->ipywidgets) (1.24.0)\n",
            "Requirement already satisfied: cffi>=1.0.1 in /usr/local/lib/python3.10/dist-packages (from argon2-cffi-bindings->argon2-cffi->notebook>=4.4.1->widgetsnbextension~=3.6.0->ipywidgets) (1.16.0)\n",
            "Requirement already satisfied: webencodings in /usr/local/lib/python3.10/dist-packages (from bleach->nbconvert>=5->notebook>=4.4.1->widgetsnbextension~=3.6.0->ipywidgets) (0.5.1)\n",
            "Requirement already satisfied: pycparser in /usr/local/lib/python3.10/dist-packages (from cffi>=1.0.1->argon2-cffi-bindings->argon2-cffi->notebook>=4.4.1->widgetsnbextension~=3.6.0->ipywidgets) (2.22)\n",
            "Requirement already satisfied: anyio<4,>=3.1.0 in /usr/local/lib/python3.10/dist-packages (from jupyter-server<3,>=1.8->notebook-shim>=0.2.3->nbclassic>=0.4.7->notebook>=4.4.1->widgetsnbextension~=3.6.0->ipywidgets) (3.7.1)\n",
            "Requirement already satisfied: websocket-client in /usr/local/lib/python3.10/dist-packages (from jupyter-server<3,>=1.8->notebook-shim>=0.2.3->nbclassic>=0.4.7->notebook>=4.4.1->widgetsnbextension~=3.6.0->ipywidgets) (1.8.0)\n",
            "Requirement already satisfied: sniffio>=1.1 in /usr/local/lib/python3.10/dist-packages (from anyio<4,>=3.1.0->jupyter-server<3,>=1.8->notebook-shim>=0.2.3->nbclassic>=0.4.7->notebook>=4.4.1->widgetsnbextension~=3.6.0->ipywidgets) (1.3.1)\n",
            "Requirement already satisfied: exceptiongroup in /usr/local/lib/python3.10/dist-packages (from anyio<4,>=3.1.0->jupyter-server<3,>=1.8->notebook-shim>=0.2.3->nbclassic>=0.4.7->notebook>=4.4.1->widgetsnbextension~=3.6.0->ipywidgets) (1.2.1)\n",
            "Todas as Dependências Foram Instaladas com Sucesso!\n",
            "Pode Executar o Próximo Bloco de Código!\n"
          ]
        }
      ],
      "source": [
        "# Primeiramente, instale as dependências. Aguarde a instalação completa das dependências até o final da  instalação in formando que foi bem sucedida.\n",
        "!pip install yt-dlp\n",
        "!pip install git+https://github.com/openai/whisper.git\n",
        "!pip install deep-translator langdetect tqdm numpy ipywidgets\n",
        "\n",
        "print(\"Todas as Dependências Foram Instaladas com Sucesso!\")\n",
        "print(\"Pode Executar o Próximo Bloco de Código!\")"
      ]
    },
    {
      "cell_type": "code",
      "execution_count": null,
      "metadata": {
        "colab": {
          "base_uri": "https://localhost:8080/"
        },
        "id": "BaS23vq_39y7",
        "outputId": "822f9fad-a506-4e10-d5e6-d41fd3e091c8"
      },
      "outputs": [
        {
          "output_type": "stream",
          "name": "stdout",
          "text": [
            "Bibliotecas importadas com sucesso! Pode Executar o Próximo Bloco de Código!\n"
          ]
        }
      ],
      "source": [
        "import subprocess\n",
        "import whisper\n",
        "import os\n",
        "import torch\n",
        "from deep_translator import GoogleTranslator\n",
        "from langdetect import detect\n",
        "import yt_dlp\n",
        "from tqdm import tqdm\n",
        "import numpy as np\n",
        "import ipywidgets as widgets\n",
        "from IPython.display import display\n",
        "\n",
        "print(\"Bibliotecas importadas com sucesso! Pode Executar o Próximo Bloco de Código!\")\n"
      ]
    },
    {
      "cell_type": "code",
      "execution_count": null,
      "metadata": {
        "colab": {
          "base_uri": "https://localhost:8080/"
        },
        "id": "YbgGik-Q4Ifv",
        "outputId": "5b7eb469-c26a-461a-feb2-6f7ec2119126"
      },
      "outputs": [
        {
          "output_type": "stream",
          "name": "stdout",
          "text": [
            "Pode Executar o Próximo Bloco de Código!\n"
          ]
        }
      ],
      "source": [
        "# Função para obter o título do vídeo e o nome do canal usando yt-dlp\n",
        "def get_video_info(url):\n",
        "    ydl_opts = {\n",
        "        'quiet': True,\n",
        "        'skip_download': True,\n",
        "        'force_generic_extractor': True,\n",
        "    }\n",
        "    with yt_dlp.YoutubeDL(ydl_opts) as ydl:\n",
        "        info = ydl.extract_info(url, download=False)\n",
        "        title = info.get('title', 'unknown_title')\n",
        "        channel = info.get('uploader', 'unknown_channel')\n",
        "        video_id = info.get('id', 'unknown_id')\n",
        "        return title, channel, video_id\n",
        "\n",
        "# Função para dividir o texto em partes menores\n",
        "def split_text(text, max_length):\n",
        "    words = text.split(' ')\n",
        "    current_length = 0\n",
        "    current_part = []\n",
        "    parts = []\n",
        "\n",
        "    for word in words:\n",
        "        if current_length + len(word) + 1 > max_length:\n",
        "            parts.append(' '.join(current_part))\n",
        "            current_part = [word]\n",
        "            current_length = len(word) + 1\n",
        "        else:\n",
        "            current_part.append(word)\n",
        "            current_length += len(word) + 1\n",
        "\n",
        "    if current_part:\n",
        "        parts.append(' '.join(current_part))\n",
        "\n",
        "    return parts\n",
        "\n",
        "print(\"Pode Executar o Próximo Bloco de Código!\")"
      ]
    },
    {
      "cell_type": "markdown",
      "metadata": {
        "id": "mZ8828U9Ma-U"
      },
      "source": [
        "Cole o link do Video após executar o próximo bloco de comando!"
      ]
    },
    {
      "cell_type": "code",
      "execution_count": null,
      "metadata": {
        "colab": {
          "base_uri": "https://localhost:8080/"
        },
        "id": "-I69BEb9MYiv",
        "outputId": "7af55314-e70f-421d-a40f-b60e671e9f8c"
      },
      "outputs": [
        {
          "output_type": "stream",
          "name": "stdout",
          "text": [
            "Cole o link do vídeo e aperte Enter: https://www.youtube.com/watch?v=WwjDg6XHR8w\n",
            "Título do vídeo: 10 Animation Styles to Try in Luma Ai Video Generator! - Image-to-Video\n",
            "Nome do canal: Tao Prompts\n",
            "Arquivo MP3 baixado com sucesso! Ele foi renomeado para: Tao_Prompts_10_Animation_Styles_to_Try_in_Luma_Ai_Video_Generator____Image_to_Video.mp3\n",
            "Pode Executar o Próximo Bloco de Código!\n"
          ]
        }
      ],
      "source": [
        "# Solicita o link do vídeo ao usuário\n",
        "video_url = input(\"Cole o link do vídeo e aperte Enter: \")\n",
        "\n",
        "# Obtém o título, nome do canal e o ID do vídeo\n",
        "video_title, channel_name, video_id = get_video_info(video_url)\n",
        "print(f'Título do vídeo: {video_title}')\n",
        "print(f'Nome do canal: {channel_name}')\n",
        "\n",
        "# Monta a linha de comando como uma lista de argumentos\n",
        "output_template = f\"{video_id}.%(ext)s\"\n",
        "command = ['yt-dlp', '-x', '-f', 'bestaudio', '--audio-format', 'mp3', '-o', output_template, video_url]\n",
        "\n",
        "# Executa a linha de comando para baixar o áudio\n",
        "subprocess.run(command, check=True)\n",
        "\n",
        "# Encontra o arquivo MP3 baixado\n",
        "output_filename = None\n",
        "for file in os.listdir('.'):\n",
        "    if file.startswith(video_id) and file.endswith('.mp3'):\n",
        "        output_filename = file\n",
        "        break\n",
        "\n",
        "if output_filename:\n",
        "    # Renomeia o arquivo MP3 para incluir o título do vídeo e o nome do canal\n",
        "    safe_video_title = \"\".join([c if c.isalnum() else \"_\" for c in video_title])\n",
        "    safe_channel_name = \"\".join([c if c.isalnum() else \"_\" for c in channel_name])\n",
        "    new_output_filename = f\"{safe_channel_name}_{safe_video_title}.mp3\"\n",
        "    os.rename(output_filename, new_output_filename)\n",
        "    output_filename = new_output_filename\n",
        "    print(f\"Arquivo MP3 baixado com sucesso! Ele foi renomeado para: {output_filename}\")\n",
        "    print(\"Pode Executar o Próximo Bloco de Código!\")\n",
        "else:\n",
        "    print(\"Nenhum arquivo MP3 encontrado.\")"
      ]
    },
    {
      "cell_type": "markdown",
      "metadata": {
        "id": "N7hN4v4KNGGE"
      },
      "source": [
        "Aguarde o terminio para executar o próximo codigo!"
      ]
    },
    {
      "cell_type": "code",
      "execution_count": null,
      "metadata": {
        "colab": {
          "base_uri": "https://localhost:8080/",
          "height": 437,
          "referenced_widgets": [
            "ec39b2c59c0c4e37981fe1cf3895020f",
            "1c89875b44e147a0823ed2d24bdb363b",
            "b0e120beaf4c424d89f903e8df0a14d7",
            "616a6c0b3c8747c59b450cefcdc58a77",
            "19e7db89728e4d80ac895eb54b4f7e0d",
            "c02a76d9744146adaabfbe48a41543b8",
            "415b967f689d4d7885d4bc6e4fb13ef6",
            "0f5f85e7e8954e7284076dfa140adb29"
          ]
        },
        "id": "NKQyDvpyCuRk",
        "outputId": "a036eec9-ac52-447a-d5db-d1ab42407a2f"
      },
      "outputs": [
        {
          "name": "stdout",
          "output_type": "stream",
          "text": [
            "Escolha o modelo que deseja usar e aguarde a mensagem de sucesso!:\n"
          ]
        },
        {
          "data": {
            "application/vnd.jupyter.widget-view+json": {
              "model_id": "ec39b2c59c0c4e37981fe1cf3895020f",
              "version_major": 2,
              "version_minor": 0
            },
            "text/plain": [
              "Dropdown(description='Modelo:', options=('medium', 'large'), value='medium')"
            ]
          },
          "metadata": {},
          "output_type": "display_data"
        },
        {
          "data": {
            "application/vnd.jupyter.widget-view+json": {
              "model_id": "616a6c0b3c8747c59b450cefcdc58a77",
              "version_major": 2,
              "version_minor": 0
            },
            "text/plain": [
              "Button(description='Baixar Modelo', style=ButtonStyle())"
            ]
          },
          "metadata": {},
          "output_type": "display_data"
        },
        {
          "data": {
            "application/vnd.jupyter.widget-view+json": {
              "model_id": "415b967f689d4d7885d4bc6e4fb13ef6",
              "version_major": 2,
              "version_minor": 0
            },
            "text/plain": [
              "Output()"
            ]
          },
          "metadata": {},
          "output_type": "display_data"
        }
      ],
      "source": [
        "# Caixa de seleção para escolher o modelo Whisper\n",
        "print(\"Escolha o modelo que deseja usar e aguarde a mensagem de sucesso!:\")\n",
        "model_options = ['medium', 'large']\n",
        "model_dropdown = widgets.Dropdown(options=model_options, value='medium', description='Modelo:')\n",
        "display(model_dropdown)\n",
        "\n",
        "# Botão para baixar o modelo\n",
        "download_button = widgets.Button(description=\"Baixar Modelo\")\n",
        "download_output = widgets.Output()\n",
        "\n",
        "display(download_button, download_output)\n",
        "\n",
        "def download_model(b):\n",
        "    with download_output:\n",
        "        download_output.clear_output()\n",
        "        model_choice = model_dropdown.value\n",
        "        global model\n",
        "        model = whisper.load_model(model_choice, device=\"cuda\")\n",
        "        print(f\"Modelo {model_choice} baixado com sucesso.\")\n",
        "\n",
        "download_button.on_click(download_model)\n"
      ]
    },
    {
      "cell_type": "code",
      "execution_count": null,
      "metadata": {
        "colab": {
          "base_uri": "https://localhost:8080/",
          "height": 243,
          "referenced_widgets": [
            "83a1ebb10a3e4b508356e694f9a69c4b",
            "0f54c22c7be04f86808d7c90a93c6445",
            "ce978e19124b4d7f9db83188acbe4036",
            "a9a9afe92fac403baa24be59b8dba5f1",
            "109a9b2ccd5a45b4b89c650e9d5235ad"
          ]
        },
        "id": "QJlWjYRMMY-P",
        "outputId": "d1f3f386-e8da-4d9f-890a-178bdf063802"
      },
      "outputs": [
        {
          "data": {
            "application/vnd.jupyter.widget-view+json": {
              "model_id": "83a1ebb10a3e4b508356e694f9a69c4b",
              "version_major": 2,
              "version_minor": 0
            },
            "text/plain": [
              "Button(description='Iniciar Transcrição', style=ButtonStyle())"
            ]
          },
          "metadata": {},
          "output_type": "display_data"
        },
        {
          "data": {
            "application/vnd.jupyter.widget-view+json": {
              "model_id": "a9a9afe92fac403baa24be59b8dba5f1",
              "version_major": 2,
              "version_minor": 0
            },
            "text/plain": [
              "Output()"
            ]
          },
          "metadata": {},
          "output_type": "display_data"
        }
      ],
      "source": [
        "# Botão para iniciar a transcrição e tradução\n",
        "transcribe_button = widgets.Button(description=\"Iniciar Transcrição\")\n",
        "transcribe_output = widgets.Output()\n",
        "\n",
        "display(transcribe_button, transcribe_output)\n",
        "\n",
        "def transcribe_audio(b):\n",
        "    with transcribe_output:\n",
        "        transcribe_output.clear_output()\n",
        "        global model\n",
        "        if output_filename:\n",
        "            # Carrega o áudio\n",
        "            audio = whisper.load_audio(output_filename)\n",
        "            audio = whisper.pad_or_trim(audio)  # Pad or trim to fit model requirements\n",
        "            mel = whisper.log_mel_spectrogram(audio).to(model.device)\n",
        "\n",
        "            # Transcreve o áudio\n",
        "            print(\"Transcrevendo áudio...\")\n",
        "            options = whisper.DecodingOptions(language=\"en\")\n",
        "            result = model.decode(mel, options)\n",
        "            original_text = result.text.strip()\n",
        "            print(\"Transcrição original salva.\")\n",
        "\n",
        "            # Detecta o idioma da transcrição\n",
        "            detected_language = detect(original_text)\n",
        "            print(\"Fazendo tradução...\")\n",
        "\n",
        "            # Define a língua de destino para a tradução\n",
        "            target_language = 'pt' if detected_language == 'en' else 'en'\n",
        "\n",
        "            # Dividir o texto em partes menores para tradução\n",
        "            text_parts = split_text(original_text, 4999)\n",
        "            translated_text = \"\"\n",
        "\n",
        "            # Tradução para o idioma de destino\n",
        "            translator = GoogleTranslator(source=detected_language, target=target_language)\n",
        "            for part in text_parts:\n",
        "                translated_text += translator.translate(part) + \" \"\n",
        "\n",
        "            translated_text = translated_text.strip()\n",
        "\n",
        "            # Cria o diretório \"textos_transcritos\" se não existir\n",
        "            output_dir = \"textos_transcritos\"\n",
        "            os.makedirs(output_dir, exist_ok=True)\n",
        "\n",
        "            # Salva a transcrição em um arquivo com o nome do título do vídeo e do canal\n",
        "            transcribed_filename = os.path.join(output_dir, f\"{safe_channel_name}_{safe_video_title}.txt\")\n",
        "            with open(transcribed_filename, 'w', encoding='utf-8') as f:\n",
        "                f.write(f\"Transcrição original:\\n{original_text}\\n\\n\")\n",
        "                f.write(f\"Transcrição traduzida para {target_language}:\\n{translated_text}\\n\")\n",
        "            print(f\"Trabalho completo. Transcrição salva em: {os.path.abspath(transcribed_filename)}\")\n",
        "\n",
        "            # Libera a memória da GPU\n",
        "            del model\n",
        "            torch.cuda.empty_cache()\n",
        "\n",
        "transcribe_button.on_click(transcribe_audio)\n"
      ]
    },
    {
      "cell_type": "markdown",
      "metadata": {
        "id": "2-ltXptwNoCc"
      },
      "source": [
        "Neste último bloco de código é onde é feito a transcrição e tradução do texto, isso leva um tempo tenha pasciência!<p>\n",
        "Um texto vai avisar quando estiver terminado!"
      ]
    }
  ],
  "metadata": {
    "accelerator": "GPU",
    "colab": {
      "gpuType": "T4",
      "provenance": []
    },
    "kernelspec": {
      "display_name": "Python 3",
      "name": "python3"
    },
    "language_info": {
      "name": "python"
    },
    "widgets": {
      "application/vnd.jupyter.widget-state+json": {
        "0f54c22c7be04f86808d7c90a93c6445": {
          "model_module": "@jupyter-widgets/base",
          "model_module_version": "1.2.0",
          "model_name": "LayoutModel",
          "state": {
            "_model_module": "@jupyter-widgets/base",
            "_model_module_version": "1.2.0",
            "_model_name": "LayoutModel",
            "_view_count": null,
            "_view_module": "@jupyter-widgets/base",
            "_view_module_version": "1.2.0",
            "_view_name": "LayoutView",
            "align_content": null,
            "align_items": null,
            "align_self": null,
            "border": null,
            "bottom": null,
            "display": null,
            "flex": null,
            "flex_flow": null,
            "grid_area": null,
            "grid_auto_columns": null,
            "grid_auto_flow": null,
            "grid_auto_rows": null,
            "grid_column": null,
            "grid_gap": null,
            "grid_row": null,
            "grid_template_areas": null,
            "grid_template_columns": null,
            "grid_template_rows": null,
            "height": null,
            "justify_content": null,
            "justify_items": null,
            "left": null,
            "margin": null,
            "max_height": null,
            "max_width": null,
            "min_height": null,
            "min_width": null,
            "object_fit": null,
            "object_position": null,
            "order": null,
            "overflow": null,
            "overflow_x": null,
            "overflow_y": null,
            "padding": null,
            "right": null,
            "top": null,
            "visibility": null,
            "width": null
          }
        },
        "0f5f85e7e8954e7284076dfa140adb29": {
          "model_module": "@jupyter-widgets/base",
          "model_module_version": "1.2.0",
          "model_name": "LayoutModel",
          "state": {
            "_model_module": "@jupyter-widgets/base",
            "_model_module_version": "1.2.0",
            "_model_name": "LayoutModel",
            "_view_count": null,
            "_view_module": "@jupyter-widgets/base",
            "_view_module_version": "1.2.0",
            "_view_name": "LayoutView",
            "align_content": null,
            "align_items": null,
            "align_self": null,
            "border": null,
            "bottom": null,
            "display": null,
            "flex": null,
            "flex_flow": null,
            "grid_area": null,
            "grid_auto_columns": null,
            "grid_auto_flow": null,
            "grid_auto_rows": null,
            "grid_column": null,
            "grid_gap": null,
            "grid_row": null,
            "grid_template_areas": null,
            "grid_template_columns": null,
            "grid_template_rows": null,
            "height": null,
            "justify_content": null,
            "justify_items": null,
            "left": null,
            "margin": null,
            "max_height": null,
            "max_width": null,
            "min_height": null,
            "min_width": null,
            "object_fit": null,
            "object_position": null,
            "order": null,
            "overflow": null,
            "overflow_x": null,
            "overflow_y": null,
            "padding": null,
            "right": null,
            "top": null,
            "visibility": null,
            "width": null
          }
        },
        "109a9b2ccd5a45b4b89c650e9d5235ad": {
          "model_module": "@jupyter-widgets/base",
          "model_module_version": "1.2.0",
          "model_name": "LayoutModel",
          "state": {
            "_model_module": "@jupyter-widgets/base",
            "_model_module_version": "1.2.0",
            "_model_name": "LayoutModel",
            "_view_count": null,
            "_view_module": "@jupyter-widgets/base",
            "_view_module_version": "1.2.0",
            "_view_name": "LayoutView",
            "align_content": null,
            "align_items": null,
            "align_self": null,
            "border": null,
            "bottom": null,
            "display": null,
            "flex": null,
            "flex_flow": null,
            "grid_area": null,
            "grid_auto_columns": null,
            "grid_auto_flow": null,
            "grid_auto_rows": null,
            "grid_column": null,
            "grid_gap": null,
            "grid_row": null,
            "grid_template_areas": null,
            "grid_template_columns": null,
            "grid_template_rows": null,
            "height": null,
            "justify_content": null,
            "justify_items": null,
            "left": null,
            "margin": null,
            "max_height": null,
            "max_width": null,
            "min_height": null,
            "min_width": null,
            "object_fit": null,
            "object_position": null,
            "order": null,
            "overflow": null,
            "overflow_x": null,
            "overflow_y": null,
            "padding": null,
            "right": null,
            "top": null,
            "visibility": null,
            "width": null
          }
        },
        "19e7db89728e4d80ac895eb54b4f7e0d": {
          "model_module": "@jupyter-widgets/base",
          "model_module_version": "1.2.0",
          "model_name": "LayoutModel",
          "state": {
            "_model_module": "@jupyter-widgets/base",
            "_model_module_version": "1.2.0",
            "_model_name": "LayoutModel",
            "_view_count": null,
            "_view_module": "@jupyter-widgets/base",
            "_view_module_version": "1.2.0",
            "_view_name": "LayoutView",
            "align_content": null,
            "align_items": null,
            "align_self": null,
            "border": null,
            "bottom": null,
            "display": null,
            "flex": null,
            "flex_flow": null,
            "grid_area": null,
            "grid_auto_columns": null,
            "grid_auto_flow": null,
            "grid_auto_rows": null,
            "grid_column": null,
            "grid_gap": null,
            "grid_row": null,
            "grid_template_areas": null,
            "grid_template_columns": null,
            "grid_template_rows": null,
            "height": null,
            "justify_content": null,
            "justify_items": null,
            "left": null,
            "margin": null,
            "max_height": null,
            "max_width": null,
            "min_height": null,
            "min_width": null,
            "object_fit": null,
            "object_position": null,
            "order": null,
            "overflow": null,
            "overflow_x": null,
            "overflow_y": null,
            "padding": null,
            "right": null,
            "top": null,
            "visibility": null,
            "width": null
          }
        },
        "1c89875b44e147a0823ed2d24bdb363b": {
          "model_module": "@jupyter-widgets/base",
          "model_module_version": "1.2.0",
          "model_name": "LayoutModel",
          "state": {
            "_model_module": "@jupyter-widgets/base",
            "_model_module_version": "1.2.0",
            "_model_name": "LayoutModel",
            "_view_count": null,
            "_view_module": "@jupyter-widgets/base",
            "_view_module_version": "1.2.0",
            "_view_name": "LayoutView",
            "align_content": null,
            "align_items": null,
            "align_self": null,
            "border": null,
            "bottom": null,
            "display": null,
            "flex": null,
            "flex_flow": null,
            "grid_area": null,
            "grid_auto_columns": null,
            "grid_auto_flow": null,
            "grid_auto_rows": null,
            "grid_column": null,
            "grid_gap": null,
            "grid_row": null,
            "grid_template_areas": null,
            "grid_template_columns": null,
            "grid_template_rows": null,
            "height": null,
            "justify_content": null,
            "justify_items": null,
            "left": null,
            "margin": null,
            "max_height": null,
            "max_width": null,
            "min_height": null,
            "min_width": null,
            "object_fit": null,
            "object_position": null,
            "order": null,
            "overflow": null,
            "overflow_x": null,
            "overflow_y": null,
            "padding": null,
            "right": null,
            "top": null,
            "visibility": null,
            "width": null
          }
        },
        "415b967f689d4d7885d4bc6e4fb13ef6": {
          "model_module": "@jupyter-widgets/output",
          "model_module_version": "1.0.0",
          "model_name": "OutputModel",
          "state": {
            "_dom_classes": [],
            "_model_module": "@jupyter-widgets/output",
            "_model_module_version": "1.0.0",
            "_model_name": "OutputModel",
            "_view_count": null,
            "_view_module": "@jupyter-widgets/output",
            "_view_module_version": "1.0.0",
            "_view_name": "OutputView",
            "layout": "IPY_MODEL_0f5f85e7e8954e7284076dfa140adb29",
            "msg_id": "",
            "outputs": [
              {
                "ename": "OutOfMemoryError",
                "evalue": "CUDA out of memory. Tried to allocate 26.00 MiB. GPU ",
                "output_type": "error",
                "traceback": [
                  "\u001b[0;31m---------------------------------------------------------------------------\u001b[0m",
                  "\u001b[0;31mOutOfMemoryError\u001b[0m                          Traceback (most recent call last)",
                  "\u001b[0;32m<ipython-input-9-13428a358c63>\u001b[0m in \u001b[0;36mdownload_model\u001b[0;34m(b)\u001b[0m\n\u001b[1;32m     16\u001b[0m         \u001b[0mmodel_choice\u001b[0m \u001b[0;34m=\u001b[0m \u001b[0mmodel_dropdown\u001b[0m\u001b[0;34m.\u001b[0m\u001b[0mvalue\u001b[0m\u001b[0;34m\u001b[0m\u001b[0;34m\u001b[0m\u001b[0m\n\u001b[1;32m     17\u001b[0m         \u001b[0;32mglobal\u001b[0m \u001b[0mmodel\u001b[0m\u001b[0;34m\u001b[0m\u001b[0;34m\u001b[0m\u001b[0m\n\u001b[0;32m---> 18\u001b[0;31m         \u001b[0mmodel\u001b[0m \u001b[0;34m=\u001b[0m \u001b[0mwhisper\u001b[0m\u001b[0;34m.\u001b[0m\u001b[0mload_model\u001b[0m\u001b[0;34m(\u001b[0m\u001b[0mmodel_choice\u001b[0m\u001b[0;34m,\u001b[0m \u001b[0mdevice\u001b[0m\u001b[0;34m=\u001b[0m\u001b[0;34m\"cuda\"\u001b[0m\u001b[0;34m)\u001b[0m\u001b[0;34m\u001b[0m\u001b[0;34m\u001b[0m\u001b[0m\n\u001b[0m\u001b[1;32m     19\u001b[0m         \u001b[0mprint\u001b[0m\u001b[0;34m(\u001b[0m\u001b[0;34mf\"Modelo {model_choice} baixado com sucesso.\"\u001b[0m\u001b[0;34m)\u001b[0m\u001b[0;34m\u001b[0m\u001b[0;34m\u001b[0m\u001b[0m\n\u001b[1;32m     20\u001b[0m \u001b[0;34m\u001b[0m\u001b[0m\n",
                  "\u001b[0;32m/usr/local/lib/python3.10/dist-packages/whisper/__init__.py\u001b[0m in \u001b[0;36mload_model\u001b[0;34m(name, device, download_root, in_memory)\u001b[0m\n\u001b[1;32m    154\u001b[0m         \u001b[0mmodel\u001b[0m\u001b[0;34m.\u001b[0m\u001b[0mset_alignment_heads\u001b[0m\u001b[0;34m(\u001b[0m\u001b[0malignment_heads\u001b[0m\u001b[0;34m)\u001b[0m\u001b[0;34m\u001b[0m\u001b[0;34m\u001b[0m\u001b[0m\n\u001b[1;32m    155\u001b[0m \u001b[0;34m\u001b[0m\u001b[0m\n\u001b[0;32m--> 156\u001b[0;31m     \u001b[0;32mreturn\u001b[0m \u001b[0mmodel\u001b[0m\u001b[0;34m.\u001b[0m\u001b[0mto\u001b[0m\u001b[0;34m(\u001b[0m\u001b[0mdevice\u001b[0m\u001b[0;34m)\u001b[0m\u001b[0;34m\u001b[0m\u001b[0;34m\u001b[0m\u001b[0m\n\u001b[0m",
                  "\u001b[0;32m/usr/local/lib/python3.10/dist-packages/torch/nn/modules/module.py\u001b[0m in \u001b[0;36mto\u001b[0;34m(self, *args, **kwargs)\u001b[0m\n\u001b[1;32m   1171\u001b[0m                     \u001b[0;32mraise\u001b[0m\u001b[0;34m\u001b[0m\u001b[0;34m\u001b[0m\u001b[0m\n\u001b[1;32m   1172\u001b[0m \u001b[0;34m\u001b[0m\u001b[0m\n\u001b[0;32m-> 1173\u001b[0;31m         \u001b[0;32mreturn\u001b[0m \u001b[0mself\u001b[0m\u001b[0;34m.\u001b[0m\u001b[0m_apply\u001b[0m\u001b[0;34m(\u001b[0m\u001b[0mconvert\u001b[0m\u001b[0;34m)\u001b[0m\u001b[0;34m\u001b[0m\u001b[0;34m\u001b[0m\u001b[0m\n\u001b[0m\u001b[1;32m   1174\u001b[0m \u001b[0;34m\u001b[0m\u001b[0m\n\u001b[1;32m   1175\u001b[0m     def register_full_backward_pre_hook(\n",
                  "\u001b[0;32m/usr/local/lib/python3.10/dist-packages/torch/nn/modules/module.py\u001b[0m in \u001b[0;36m_apply\u001b[0;34m(self, fn, recurse)\u001b[0m\n\u001b[1;32m    777\u001b[0m         \u001b[0;32mif\u001b[0m \u001b[0mrecurse\u001b[0m\u001b[0;34m:\u001b[0m\u001b[0;34m\u001b[0m\u001b[0;34m\u001b[0m\u001b[0m\n\u001b[1;32m    778\u001b[0m             \u001b[0;32mfor\u001b[0m \u001b[0mmodule\u001b[0m \u001b[0;32min\u001b[0m \u001b[0mself\u001b[0m\u001b[0;34m.\u001b[0m\u001b[0mchildren\u001b[0m\u001b[0;34m(\u001b[0m\u001b[0;34m)\u001b[0m\u001b[0;34m:\u001b[0m\u001b[0;34m\u001b[0m\u001b[0;34m\u001b[0m\u001b[0m\n\u001b[0;32m--> 779\u001b[0;31m                 \u001b[0mmodule\u001b[0m\u001b[0;34m.\u001b[0m\u001b[0m_apply\u001b[0m\u001b[0;34m(\u001b[0m\u001b[0mfn\u001b[0m\u001b[0;34m)\u001b[0m\u001b[0;34m\u001b[0m\u001b[0;34m\u001b[0m\u001b[0m\n\u001b[0m\u001b[1;32m    780\u001b[0m \u001b[0;34m\u001b[0m\u001b[0m\n\u001b[1;32m    781\u001b[0m         \u001b[0;32mdef\u001b[0m \u001b[0mcompute_should_use_set_data\u001b[0m\u001b[0;34m(\u001b[0m\u001b[0mtensor\u001b[0m\u001b[0;34m,\u001b[0m \u001b[0mtensor_applied\u001b[0m\u001b[0;34m)\u001b[0m\u001b[0;34m:\u001b[0m\u001b[0;34m\u001b[0m\u001b[0;34m\u001b[0m\u001b[0m\n",
                  "\u001b[0;32m/usr/local/lib/python3.10/dist-packages/torch/nn/modules/module.py\u001b[0m in \u001b[0;36m_apply\u001b[0;34m(self, fn, recurse)\u001b[0m\n\u001b[1;32m    777\u001b[0m         \u001b[0;32mif\u001b[0m \u001b[0mrecurse\u001b[0m\u001b[0;34m:\u001b[0m\u001b[0;34m\u001b[0m\u001b[0;34m\u001b[0m\u001b[0m\n\u001b[1;32m    778\u001b[0m             \u001b[0;32mfor\u001b[0m \u001b[0mmodule\u001b[0m \u001b[0;32min\u001b[0m \u001b[0mself\u001b[0m\u001b[0;34m.\u001b[0m\u001b[0mchildren\u001b[0m\u001b[0;34m(\u001b[0m\u001b[0;34m)\u001b[0m\u001b[0;34m:\u001b[0m\u001b[0;34m\u001b[0m\u001b[0;34m\u001b[0m\u001b[0m\n\u001b[0;32m--> 779\u001b[0;31m                 \u001b[0mmodule\u001b[0m\u001b[0;34m.\u001b[0m\u001b[0m_apply\u001b[0m\u001b[0;34m(\u001b[0m\u001b[0mfn\u001b[0m\u001b[0;34m)\u001b[0m\u001b[0;34m\u001b[0m\u001b[0;34m\u001b[0m\u001b[0m\n\u001b[0m\u001b[1;32m    780\u001b[0m \u001b[0;34m\u001b[0m\u001b[0m\n\u001b[1;32m    781\u001b[0m         \u001b[0;32mdef\u001b[0m \u001b[0mcompute_should_use_set_data\u001b[0m\u001b[0;34m(\u001b[0m\u001b[0mtensor\u001b[0m\u001b[0;34m,\u001b[0m \u001b[0mtensor_applied\u001b[0m\u001b[0;34m)\u001b[0m\u001b[0;34m:\u001b[0m\u001b[0;34m\u001b[0m\u001b[0;34m\u001b[0m\u001b[0m\n",
                  "\u001b[0;32m/usr/local/lib/python3.10/dist-packages/torch/nn/modules/module.py\u001b[0m in \u001b[0;36m_apply\u001b[0;34m(self, fn, recurse)\u001b[0m\n\u001b[1;32m    777\u001b[0m         \u001b[0;32mif\u001b[0m \u001b[0mrecurse\u001b[0m\u001b[0;34m:\u001b[0m\u001b[0;34m\u001b[0m\u001b[0;34m\u001b[0m\u001b[0m\n\u001b[1;32m    778\u001b[0m             \u001b[0;32mfor\u001b[0m \u001b[0mmodule\u001b[0m \u001b[0;32min\u001b[0m \u001b[0mself\u001b[0m\u001b[0;34m.\u001b[0m\u001b[0mchildren\u001b[0m\u001b[0;34m(\u001b[0m\u001b[0;34m)\u001b[0m\u001b[0;34m:\u001b[0m\u001b[0;34m\u001b[0m\u001b[0;34m\u001b[0m\u001b[0m\n\u001b[0;32m--> 779\u001b[0;31m                 \u001b[0mmodule\u001b[0m\u001b[0;34m.\u001b[0m\u001b[0m_apply\u001b[0m\u001b[0;34m(\u001b[0m\u001b[0mfn\u001b[0m\u001b[0;34m)\u001b[0m\u001b[0;34m\u001b[0m\u001b[0;34m\u001b[0m\u001b[0m\n\u001b[0m\u001b[1;32m    780\u001b[0m \u001b[0;34m\u001b[0m\u001b[0m\n\u001b[1;32m    781\u001b[0m         \u001b[0;32mdef\u001b[0m \u001b[0mcompute_should_use_set_data\u001b[0m\u001b[0;34m(\u001b[0m\u001b[0mtensor\u001b[0m\u001b[0;34m,\u001b[0m \u001b[0mtensor_applied\u001b[0m\u001b[0;34m)\u001b[0m\u001b[0;34m:\u001b[0m\u001b[0;34m\u001b[0m\u001b[0;34m\u001b[0m\u001b[0m\n",
                  "\u001b[0;32m/usr/local/lib/python3.10/dist-packages/torch/nn/modules/module.py\u001b[0m in \u001b[0;36m_apply\u001b[0;34m(self, fn, recurse)\u001b[0m\n\u001b[1;32m    777\u001b[0m         \u001b[0;32mif\u001b[0m \u001b[0mrecurse\u001b[0m\u001b[0;34m:\u001b[0m\u001b[0;34m\u001b[0m\u001b[0;34m\u001b[0m\u001b[0m\n\u001b[1;32m    778\u001b[0m             \u001b[0;32mfor\u001b[0m \u001b[0mmodule\u001b[0m \u001b[0;32min\u001b[0m \u001b[0mself\u001b[0m\u001b[0;34m.\u001b[0m\u001b[0mchildren\u001b[0m\u001b[0;34m(\u001b[0m\u001b[0;34m)\u001b[0m\u001b[0;34m:\u001b[0m\u001b[0;34m\u001b[0m\u001b[0;34m\u001b[0m\u001b[0m\n\u001b[0;32m--> 779\u001b[0;31m                 \u001b[0mmodule\u001b[0m\u001b[0;34m.\u001b[0m\u001b[0m_apply\u001b[0m\u001b[0;34m(\u001b[0m\u001b[0mfn\u001b[0m\u001b[0;34m)\u001b[0m\u001b[0;34m\u001b[0m\u001b[0;34m\u001b[0m\u001b[0m\n\u001b[0m\u001b[1;32m    780\u001b[0m \u001b[0;34m\u001b[0m\u001b[0m\n\u001b[1;32m    781\u001b[0m         \u001b[0;32mdef\u001b[0m \u001b[0mcompute_should_use_set_data\u001b[0m\u001b[0;34m(\u001b[0m\u001b[0mtensor\u001b[0m\u001b[0;34m,\u001b[0m \u001b[0mtensor_applied\u001b[0m\u001b[0;34m)\u001b[0m\u001b[0;34m:\u001b[0m\u001b[0;34m\u001b[0m\u001b[0;34m\u001b[0m\u001b[0m\n",
                  "\u001b[0;32m/usr/local/lib/python3.10/dist-packages/torch/nn/modules/module.py\u001b[0m in \u001b[0;36m_apply\u001b[0;34m(self, fn, recurse)\u001b[0m\n\u001b[1;32m    777\u001b[0m         \u001b[0;32mif\u001b[0m \u001b[0mrecurse\u001b[0m\u001b[0;34m:\u001b[0m\u001b[0;34m\u001b[0m\u001b[0;34m\u001b[0m\u001b[0m\n\u001b[1;32m    778\u001b[0m             \u001b[0;32mfor\u001b[0m \u001b[0mmodule\u001b[0m \u001b[0;32min\u001b[0m \u001b[0mself\u001b[0m\u001b[0;34m.\u001b[0m\u001b[0mchildren\u001b[0m\u001b[0;34m(\u001b[0m\u001b[0;34m)\u001b[0m\u001b[0;34m:\u001b[0m\u001b[0;34m\u001b[0m\u001b[0;34m\u001b[0m\u001b[0m\n\u001b[0;32m--> 779\u001b[0;31m                 \u001b[0mmodule\u001b[0m\u001b[0;34m.\u001b[0m\u001b[0m_apply\u001b[0m\u001b[0;34m(\u001b[0m\u001b[0mfn\u001b[0m\u001b[0;34m)\u001b[0m\u001b[0;34m\u001b[0m\u001b[0;34m\u001b[0m\u001b[0m\n\u001b[0m\u001b[1;32m    780\u001b[0m \u001b[0;34m\u001b[0m\u001b[0m\n\u001b[1;32m    781\u001b[0m         \u001b[0;32mdef\u001b[0m \u001b[0mcompute_should_use_set_data\u001b[0m\u001b[0;34m(\u001b[0m\u001b[0mtensor\u001b[0m\u001b[0;34m,\u001b[0m \u001b[0mtensor_applied\u001b[0m\u001b[0;34m)\u001b[0m\u001b[0;34m:\u001b[0m\u001b[0;34m\u001b[0m\u001b[0;34m\u001b[0m\u001b[0m\n",
                  "\u001b[0;32m/usr/local/lib/python3.10/dist-packages/torch/nn/modules/module.py\u001b[0m in \u001b[0;36m_apply\u001b[0;34m(self, fn, recurse)\u001b[0m\n\u001b[1;32m    802\u001b[0m             \u001b[0;31m# `with torch.no_grad():`\u001b[0m\u001b[0;34m\u001b[0m\u001b[0;34m\u001b[0m\u001b[0m\n\u001b[1;32m    803\u001b[0m             \u001b[0;32mwith\u001b[0m \u001b[0mtorch\u001b[0m\u001b[0;34m.\u001b[0m\u001b[0mno_grad\u001b[0m\u001b[0;34m(\u001b[0m\u001b[0;34m)\u001b[0m\u001b[0;34m:\u001b[0m\u001b[0;34m\u001b[0m\u001b[0;34m\u001b[0m\u001b[0m\n\u001b[0;32m--> 804\u001b[0;31m                 \u001b[0mparam_applied\u001b[0m \u001b[0;34m=\u001b[0m \u001b[0mfn\u001b[0m\u001b[0;34m(\u001b[0m\u001b[0mparam\u001b[0m\u001b[0;34m)\u001b[0m\u001b[0;34m\u001b[0m\u001b[0;34m\u001b[0m\u001b[0m\n\u001b[0m\u001b[1;32m    805\u001b[0m             \u001b[0mp_should_use_set_data\u001b[0m \u001b[0;34m=\u001b[0m \u001b[0mcompute_should_use_set_data\u001b[0m\u001b[0;34m(\u001b[0m\u001b[0mparam\u001b[0m\u001b[0;34m,\u001b[0m \u001b[0mparam_applied\u001b[0m\u001b[0;34m)\u001b[0m\u001b[0;34m\u001b[0m\u001b[0;34m\u001b[0m\u001b[0m\n\u001b[1;32m    806\u001b[0m \u001b[0;34m\u001b[0m\u001b[0m\n",
                  "\u001b[0;32m/usr/local/lib/python3.10/dist-packages/torch/nn/modules/module.py\u001b[0m in \u001b[0;36mconvert\u001b[0;34m(t)\u001b[0m\n\u001b[1;32m   1157\u001b[0m                         \u001b[0mmemory_format\u001b[0m\u001b[0;34m=\u001b[0m\u001b[0mconvert_to_format\u001b[0m\u001b[0;34m,\u001b[0m\u001b[0;34m\u001b[0m\u001b[0;34m\u001b[0m\u001b[0m\n\u001b[1;32m   1158\u001b[0m                     )\n\u001b[0;32m-> 1159\u001b[0;31m                 return t.to(\n\u001b[0m\u001b[1;32m   1160\u001b[0m                     \u001b[0mdevice\u001b[0m\u001b[0;34m,\u001b[0m\u001b[0;34m\u001b[0m\u001b[0;34m\u001b[0m\u001b[0m\n\u001b[1;32m   1161\u001b[0m                     \u001b[0mdtype\u001b[0m \u001b[0;32mif\u001b[0m \u001b[0mt\u001b[0m\u001b[0;34m.\u001b[0m\u001b[0mis_floating_point\u001b[0m\u001b[0;34m(\u001b[0m\u001b[0;34m)\u001b[0m \u001b[0;32mor\u001b[0m \u001b[0mt\u001b[0m\u001b[0;34m.\u001b[0m\u001b[0mis_complex\u001b[0m\u001b[0;34m(\u001b[0m\u001b[0;34m)\u001b[0m \u001b[0;32melse\u001b[0m \u001b[0;32mNone\u001b[0m\u001b[0;34m,\u001b[0m\u001b[0;34m\u001b[0m\u001b[0;34m\u001b[0m\u001b[0m\n",
                  "\u001b[0;31mOutOfMemoryError\u001b[0m: CUDA out of memory. Tried to allocate 26.00 MiB. GPU "
                ]
              }
            ]
          }
        },
        "616a6c0b3c8747c59b450cefcdc58a77": {
          "model_module": "@jupyter-widgets/controls",
          "model_module_version": "1.5.0",
          "model_name": "ButtonModel",
          "state": {
            "_dom_classes": [],
            "_model_module": "@jupyter-widgets/controls",
            "_model_module_version": "1.5.0",
            "_model_name": "ButtonModel",
            "_view_count": null,
            "_view_module": "@jupyter-widgets/controls",
            "_view_module_version": "1.5.0",
            "_view_name": "ButtonView",
            "button_style": "",
            "description": "Baixar Modelo",
            "disabled": false,
            "icon": "",
            "layout": "IPY_MODEL_19e7db89728e4d80ac895eb54b4f7e0d",
            "style": "IPY_MODEL_c02a76d9744146adaabfbe48a41543b8",
            "tooltip": ""
          }
        },
        "83a1ebb10a3e4b508356e694f9a69c4b": {
          "model_module": "@jupyter-widgets/controls",
          "model_module_version": "1.5.0",
          "model_name": "ButtonModel",
          "state": {
            "_dom_classes": [],
            "_model_module": "@jupyter-widgets/controls",
            "_model_module_version": "1.5.0",
            "_model_name": "ButtonModel",
            "_view_count": null,
            "_view_module": "@jupyter-widgets/controls",
            "_view_module_version": "1.5.0",
            "_view_name": "ButtonView",
            "button_style": "",
            "description": "Iniciar Transcrição",
            "disabled": false,
            "icon": "",
            "layout": "IPY_MODEL_0f54c22c7be04f86808d7c90a93c6445",
            "style": "IPY_MODEL_ce978e19124b4d7f9db83188acbe4036",
            "tooltip": ""
          }
        },
        "a9a9afe92fac403baa24be59b8dba5f1": {
          "model_module": "@jupyter-widgets/output",
          "model_module_version": "1.0.0",
          "model_name": "OutputModel",
          "state": {
            "_dom_classes": [],
            "_model_module": "@jupyter-widgets/output",
            "_model_module_version": "1.0.0",
            "_model_name": "OutputModel",
            "_view_count": null,
            "_view_module": "@jupyter-widgets/output",
            "_view_module_version": "1.0.0",
            "_view_name": "OutputView",
            "layout": "IPY_MODEL_109a9b2ccd5a45b4b89c650e9d5235ad",
            "msg_id": "",
            "outputs": [
              {
                "ename": "UnboundLocalError",
                "evalue": "local variable 'model' referenced before assignment",
                "output_type": "error",
                "traceback": [
                  "\u001b[0;31m---------------------------------------------------------------------------\u001b[0m",
                  "\u001b[0;31mUnboundLocalError\u001b[0m                         Traceback (most recent call last)",
                  "\u001b[0;32m<ipython-input-8-6243330af51e>\u001b[0m in \u001b[0;36mtranscribe_audio\u001b[0;34m(b)\u001b[0m\n\u001b[1;32m     12\u001b[0m             \u001b[0maudio\u001b[0m \u001b[0;34m=\u001b[0m \u001b[0mwhisper\u001b[0m\u001b[0;34m.\u001b[0m\u001b[0mload_audio\u001b[0m\u001b[0;34m(\u001b[0m\u001b[0moutput_filename\u001b[0m\u001b[0;34m)\u001b[0m\u001b[0;34m\u001b[0m\u001b[0;34m\u001b[0m\u001b[0m\n\u001b[1;32m     13\u001b[0m             \u001b[0maudio\u001b[0m \u001b[0;34m=\u001b[0m \u001b[0mwhisper\u001b[0m\u001b[0;34m.\u001b[0m\u001b[0mpad_or_trim\u001b[0m\u001b[0;34m(\u001b[0m\u001b[0maudio\u001b[0m\u001b[0;34m)\u001b[0m  \u001b[0;31m# Pad or trim to fit model requirements\u001b[0m\u001b[0;34m\u001b[0m\u001b[0;34m\u001b[0m\u001b[0m\n\u001b[0;32m---> 14\u001b[0;31m             \u001b[0mmel\u001b[0m \u001b[0;34m=\u001b[0m \u001b[0mwhisper\u001b[0m\u001b[0;34m.\u001b[0m\u001b[0mlog_mel_spectrogram\u001b[0m\u001b[0;34m(\u001b[0m\u001b[0maudio\u001b[0m\u001b[0;34m)\u001b[0m\u001b[0;34m.\u001b[0m\u001b[0mto\u001b[0m\u001b[0;34m(\u001b[0m\u001b[0mmodel\u001b[0m\u001b[0;34m.\u001b[0m\u001b[0mdevice\u001b[0m\u001b[0;34m)\u001b[0m\u001b[0;34m\u001b[0m\u001b[0;34m\u001b[0m\u001b[0m\n\u001b[0m\u001b[1;32m     15\u001b[0m \u001b[0;34m\u001b[0m\u001b[0m\n\u001b[1;32m     16\u001b[0m             \u001b[0;31m# Transcreve o áudio\u001b[0m\u001b[0;34m\u001b[0m\u001b[0;34m\u001b[0m\u001b[0m\n",
                  "\u001b[0;31mUnboundLocalError\u001b[0m: local variable 'model' referenced before assignment"
                ]
              }
            ]
          }
        },
        "b0e120beaf4c424d89f903e8df0a14d7": {
          "model_module": "@jupyter-widgets/controls",
          "model_module_version": "1.5.0",
          "model_name": "DescriptionStyleModel",
          "state": {
            "_model_module": "@jupyter-widgets/controls",
            "_model_module_version": "1.5.0",
            "_model_name": "DescriptionStyleModel",
            "_view_count": null,
            "_view_module": "@jupyter-widgets/base",
            "_view_module_version": "1.2.0",
            "_view_name": "StyleView",
            "description_width": ""
          }
        },
        "c02a76d9744146adaabfbe48a41543b8": {
          "model_module": "@jupyter-widgets/controls",
          "model_module_version": "1.5.0",
          "model_name": "ButtonStyleModel",
          "state": {
            "_model_module": "@jupyter-widgets/controls",
            "_model_module_version": "1.5.0",
            "_model_name": "ButtonStyleModel",
            "_view_count": null,
            "_view_module": "@jupyter-widgets/base",
            "_view_module_version": "1.2.0",
            "_view_name": "StyleView",
            "button_color": null,
            "font_weight": ""
          }
        },
        "ce978e19124b4d7f9db83188acbe4036": {
          "model_module": "@jupyter-widgets/controls",
          "model_module_version": "1.5.0",
          "model_name": "ButtonStyleModel",
          "state": {
            "_model_module": "@jupyter-widgets/controls",
            "_model_module_version": "1.5.0",
            "_model_name": "ButtonStyleModel",
            "_view_count": null,
            "_view_module": "@jupyter-widgets/base",
            "_view_module_version": "1.2.0",
            "_view_name": "StyleView",
            "button_color": null,
            "font_weight": ""
          }
        },
        "ec39b2c59c0c4e37981fe1cf3895020f": {
          "model_module": "@jupyter-widgets/controls",
          "model_module_version": "1.5.0",
          "model_name": "DropdownModel",
          "state": {
            "_dom_classes": [],
            "_model_module": "@jupyter-widgets/controls",
            "_model_module_version": "1.5.0",
            "_model_name": "DropdownModel",
            "_options_labels": [
              "medium",
              "large"
            ],
            "_view_count": null,
            "_view_module": "@jupyter-widgets/controls",
            "_view_module_version": "1.5.0",
            "_view_name": "DropdownView",
            "description": "Modelo:",
            "description_tooltip": null,
            "disabled": false,
            "index": 1,
            "layout": "IPY_MODEL_1c89875b44e147a0823ed2d24bdb363b",
            "style": "IPY_MODEL_b0e120beaf4c424d89f903e8df0a14d7"
          }
        }
      }
    }
  },
  "nbformat": 4,
  "nbformat_minor": 0
}